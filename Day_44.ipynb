{
  "nbformat": 4,
  "nbformat_minor": 0,
  "metadata": {
    "colab": {
      "provenance": [],
      "authorship_tag": "ABX9TyM2h70ReCSkJprgUq3m2v6C",
      "include_colab_link": true
    },
    "kernelspec": {
      "name": "python3",
      "display_name": "Python 3"
    },
    "language_info": {
      "name": "python"
    }
  },
  "cells": [
    {
      "cell_type": "markdown",
      "metadata": {
        "id": "view-in-github",
        "colab_type": "text"
      },
      "source": [
        "<a href=\"https://colab.research.google.com/github/Rakshitha149/Python_Basics/blob/main/Day_44.ipynb\" target=\"_parent\"><img src=\"https://colab.research.google.com/assets/colab-badge.svg\" alt=\"Open In Colab\"/></a>"
      ]
    },
    {
      "cell_type": "code",
      "source": [
        "#Coding Exercise: NLP Applications - Introduction to Chatbots\n",
        "#Write a Python program to create a simple chatbot that responds to user input. Use an if-else statement to reply to 'Hello' with 'Hi! How can I help you?' and to 'Bye' with 'Goodbye! Have a nice day!'.\n",
        "\n",
        "def chatbot():\n",
        "    while True:\n",
        "        user_input = input(\"You: \")\n",
        "\n",
        "        if user_input.lower() == 'hello':\n",
        "            print(\"Bot: Hi! How can I help you?\")\n",
        "        elif user_input.lower() == 'bye':\n",
        "            print(\"Bot: Goodbye! Have a nice day!\")\n",
        "            break\n",
        "        else:\n",
        "            print(\"Bot: I am sorry, I don't understand that.\")\n",
        "\n",
        "chatbot()\n"
      ],
      "metadata": {
        "colab": {
          "base_uri": "https://localhost:8080/"
        },
        "id": "FVvzKBNJpcxD",
        "outputId": "23a13577-dfde-472b-bbbe-95bc64ba4c0b"
      },
      "execution_count": 13,
      "outputs": [
        {
          "output_type": "stream",
          "name": "stdout",
          "text": [
            "You: bye\n",
            "Bot: Goodbye! Have a nice day!\n"
          ]
        }
      ]
    }
  ]
}