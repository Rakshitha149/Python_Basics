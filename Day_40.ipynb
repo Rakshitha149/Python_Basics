{
  "nbformat": 4,
  "nbformat_minor": 0,
  "metadata": {
    "colab": {
      "provenance": [],
      "authorship_tag": "ABX9TyOX905qC9KMiKV9uJ3y+poM",
      "include_colab_link": true
    },
    "kernelspec": {
      "name": "python3",
      "display_name": "Python 3"
    },
    "language_info": {
      "name": "python"
    }
  },
  "cells": [
    {
      "cell_type": "markdown",
      "metadata": {
        "id": "view-in-github",
        "colab_type": "text"
      },
      "source": [
        "<a href=\"https://colab.research.google.com/github/Rakshitha149/Python_Basics/blob/main/Day_40.ipynb\" target=\"_parent\"><img src=\"https://colab.research.google.com/assets/colab-badge.svg\" alt=\"Open In Colab\"/></a>"
      ]
    },
    {
      "cell_type": "code",
      "execution_count": 5,
      "metadata": {
        "colab": {
          "base_uri": "https://localhost:8080/"
        },
        "id": "dRn6E-gKmFkI",
        "outputId": "e8a9edfb-4e86-45a9-e0fc-08a17ee24cd6"
      },
      "outputs": [
        {
          "output_type": "stream",
          "name": "stdout",
          "text": [
            "Predicted category for the new text: Spam\n"
          ]
        }
      ],
      "source": [
        "#Coding Question on Ensemble Models Text Classification\n",
        "#Write a Python program to classify text using an ensemble model (`RandomForestClassifier`) from `sklearn.ensemble`.\n",
        "#Use `TfidfVectorizer` to convert text into numerical format.\n",
        "#Example input:\n",
        "    #[\"Buy now and win a prize\", \"Normal email content\", \"Congratulations, you won!\"]\n",
        "\n",
        "from sklearn.feature_extraction.text import TfidfVectorizer\n",
        "from sklearn.ensemble import RandomForestClassifier\n",
        "from sklearn.model_selection import train_test_split\n",
        "\n",
        "corpus = [\n",
        "    \"Buy now and win a prize\",\n",
        "    \"Normal email content\",\n",
        "    \"Congratulations, you won!\"\n",
        "]\n",
        "\n",
        "labels = [\"Spam\", \"Normal\", \"Spam\"]\n",
        "\n",
        "vectorizer = TfidfVectorizer()\n",
        "X = vectorizer.fit_transform(corpus)\n",
        "\n",
        "X_train, X_test, y_train, y_test = train_test_split(X, labels, test_size=0.3, random_state=42)\n",
        "\n",
        "rf_classifier = RandomForestClassifier()\n",
        "rf_classifier.fit(X_train, y_train)\n",
        "\n",
        "new_text = [\"You have won a gift\"]\n",
        "X_new = vectorizer.transform(new_text)\n",
        "prediction = rf_classifier.predict(X_new)\n",
        "\n",
        "print(\"Predicted category for the new text:\", prediction[0])\n",
        "\n"
      ]
    }
  ]
}