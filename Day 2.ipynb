{
  "nbformat": 4,
  "nbformat_minor": 0,
  "metadata": {
    "colab": {
      "provenance": [],
      "authorship_tag": "ABX9TyPSYwIgUxXBFjRITDBm4vvU",
      "include_colab_link": true
    },
    "kernelspec": {
      "name": "python3",
      "display_name": "Python 3"
    },
    "language_info": {
      "name": "python"
    }
  },
  "cells": [
    {
      "cell_type": "markdown",
      "metadata": {
        "id": "view-in-github",
        "colab_type": "text"
      },
      "source": [
        "<a href=\"https://colab.research.google.com/github/Rakshitha149/Python_Basics/blob/main/Day%202.ipynb\" target=\"_parent\"><img src=\"https://colab.research.google.com/assets/colab-badge.svg\" alt=\"Open In Colab\"/></a>"
      ]
    },
    {
      "cell_type": "code",
      "execution_count": 1,
      "metadata": {
        "colab": {
          "base_uri": "https://localhost:8080/"
        },
        "id": "NiGe6H3xWPk9",
        "outputId": "bce44506-7bf0-4858-ac18-0e44c1515fd4"
      },
      "outputs": [
        {
          "output_type": "stream",
          "name": "stdout",
          "text": [
            "List Example:\n",
            "First fruit: apple\n",
            "Last fruit: elderberry\n",
            "Sliced fruits: ['banana', 'cherry', 'date']\n",
            "\n",
            "Tuple Example:\n",
            "First number: 10\n",
            "Last number: 50\n",
            "Sliced numbers: (30, 40, 50)\n",
            "\n",
            "Dictionary Example:\n",
            "Name: Alice\n",
            "Profession: Engineer\n",
            "Unknown key (safe): Not found\n"
          ]
        }
      ],
      "source": [
        "#Create a List, tuple and Dictionary with 5 elements in it and how to access few elements based on the index. Try  with different examples\n",
        "\n",
        "fruits = [\"apple\", \"banana\", \"cherry\", \"date\", \"elderberry\"]\n",
        "print(\"List Example:\")\n",
        "print(f\"First fruit: {fruits[0]}\")\n",
        "print(f\"Last fruit: {fruits[-1]}\")\n",
        "print(f\"Sliced fruits: {fruits[1:4]}\")\n",
        "\n",
        "\n",
        "numbers = (10, 20, 30, 40, 50)\n",
        "print(\"\\nTuple Example:\")\n",
        "print(f\"First number: {numbers[0]}\")\n",
        "print(f\"Last number: {numbers[-1]}\")\n",
        "print(f\"Sliced numbers: {numbers[2:]}\")\n",
        "\n",
        "person = {\n",
        "    \"name\": \"Alice\",\n",
        "    \"age\": 25,\n",
        "    \"city\": \"New York\",\n",
        "    \"profession\": \"Engineer\",\n",
        "    \"hobby\": \"Painting\"\n",
        "}\n",
        "print(\"\\nDictionary Example:\")\n",
        "print(f\"Name: {person['name']}\")\n",
        "print(f\"Profession: {person['profession']}\")\n",
        "print(f\"Unknown key (safe): {person.get('country', 'Not found')}\")"
      ]
    }
  ]
}