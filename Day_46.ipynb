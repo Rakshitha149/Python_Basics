{
  "nbformat": 4,
  "nbformat_minor": 0,
  "metadata": {
    "colab": {
      "provenance": [],
      "authorship_tag": "ABX9TyNj97vov1M/hQBJMtxwqBEq",
      "include_colab_link": true
    },
    "kernelspec": {
      "name": "python3",
      "display_name": "Python 3"
    },
    "language_info": {
      "name": "python"
    }
  },
  "cells": [
    {
      "cell_type": "markdown",
      "metadata": {
        "id": "view-in-github",
        "colab_type": "text"
      },
      "source": [
        "<a href=\"https://colab.research.google.com/github/Rakshitha149/Python_Basics/blob/main/Day_46.ipynb\" target=\"_parent\"><img src=\"https://colab.research.google.com/assets/colab-badge.svg\" alt=\"Open In Colab\"/></a>"
      ]
    },
    {
      "cell_type": "code",
      "source": [
        "#Coding Exercise: Rule-based Chatbots, Examples\n",
        "#Write a Python program that uses a dictionary to define chatbot responses. The chatbot should reply to 'Hello', 'How are you?', and 'Bye' with predefined responses.\n",
        "\n",
        "def chatbot():\n",
        "    responses = {\n",
        "        'hello': 'Hi! How can I help you?',\n",
        "        'how are you?': 'I am doing great, thank you!',\n",
        "        'bye': 'Goodbye! Have a nice day!'\n",
        "    }\n",
        "\n",
        "    while True:\n",
        "        user_input = input(\"You: \").lower()\n",
        "\n",
        "        if user_input in responses:\n",
        "            print(\"Bot:\", responses[user_input])\n",
        "        else:\n",
        "            print(\"Bot: I am sorry, I don't understand that.\")\n",
        "\n",
        "        if user_input == 'bye':\n",
        "            break\n",
        "\n",
        "chatbot()\n"
      ],
      "metadata": {
        "colab": {
          "base_uri": "https://localhost:8080/"
        },
        "id": "FVvzKBNJpcxD",
        "outputId": "39266e5f-3cfd-4ce6-fc74-3379a4ee2a29"
      },
      "execution_count": 15,
      "outputs": [
        {
          "output_type": "stream",
          "name": "stdout",
          "text": [
            "You: hi\n",
            "Bot: I am sorry, I don't understand that.\n",
            "You: hello\n",
            "Bot: Hi! How can I help you?\n",
            "You: how are you?\n",
            "Bot: I am doing great, thank you!\n",
            "You: bye\n",
            "Bot: Goodbye! Have a nice day!\n"
          ]
        }
      ]
    }
  ]
}