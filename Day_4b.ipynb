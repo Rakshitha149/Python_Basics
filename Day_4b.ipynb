{
  "nbformat": 4,
  "nbformat_minor": 0,
  "metadata": {
    "colab": {
      "provenance": [],
      "authorship_tag": "ABX9TyM6BdVPxlfWHYnsky62/jyZ",
      "include_colab_link": true
    },
    "kernelspec": {
      "name": "python3",
      "display_name": "Python 3"
    },
    "language_info": {
      "name": "python"
    }
  },
  "cells": [
    {
      "cell_type": "markdown",
      "metadata": {
        "id": "view-in-github",
        "colab_type": "text"
      },
      "source": [
        "<a href=\"https://colab.research.google.com/github/Rakshitha149/Python_Basics/blob/main/Day_4.ipynb\" target=\"_parent\"><img src=\"https://colab.research.google.com/assets/colab-badge.svg\" alt=\"Open In Colab\"/></a>"
      ]
    },
    {
      "cell_type": "code",
      "source": [
        "\n",
        "n = int(input(\"Enter a positive integer: \"))\n",
        "\n",
        "\n",
        "sum_even = 0\n",
        "\n",
        "\n",
        "for i in range(2, n + 1, 2):\n",
        "    sum_even += i\n",
        "\n",
        "\n",
        "print(\"The sum of all even numbers between 1 and\", n, \"is:\", sum_even)\n"
      ],
      "metadata": {
        "colab": {
          "base_uri": "https://localhost:8080/"
        },
        "id": "PDzZL28WEtM8",
        "outputId": "642f3f42-32bb-40a6-d59b-11ea380c22b0"
      },
      "execution_count": 3,
      "outputs": [
        {
          "output_type": "stream",
          "name": "stdout",
          "text": [
            "Enter a positive integer: 76\n",
            "The sum of all even numbers between 1 and 76 is: 1482\n"
          ]
        }
      ]
    }
  ]
}
