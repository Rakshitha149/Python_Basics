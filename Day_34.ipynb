{
  "nbformat": 4,
  "nbformat_minor": 0,
  "metadata": {
    "colab": {
      "provenance": [],
      "authorship_tag": "ABX9TyOp+shAHAkL0ZMLE7qHQyPG",
      "include_colab_link": true
    },
    "kernelspec": {
      "name": "python3",
      "display_name": "Python 3"
    },
    "language_info": {
      "name": "python"
    }
  },
  "cells": [
    {
      "cell_type": "markdown",
      "metadata": {
        "id": "view-in-github",
        "colab_type": "text"
      },
      "source": [
        "<a href=\"https://colab.research.google.com/github/Rakshitha149/Python_Basics/blob/main/Day_34.ipynb\" target=\"_parent\"><img src=\"https://colab.research.google.com/assets/colab-badge.svg\" alt=\"Open In Colab\"/></a>"
      ]
    },
    {
      "cell_type": "code",
      "execution_count": 1,
      "metadata": {
        "colab": {
          "base_uri": "https://localhost:8080/"
        },
        "id": "dRn6E-gKmFkI",
        "outputId": "95485e48-328d-4c5d-f77f-acce7246ed72"
      },
      "outputs": [
        {
          "output_type": "stream",
          "name": "stdout",
          "text": [
            "Bag of Words (BoW) representation:\n",
            "[[0 0 0 0 1 1 1]\n",
            " [0 0 1 1 1 0 1]\n",
            " [1 1 0 1 1 0 0]]\n",
            "Feature names: ['amazing' 'deep' 'fun' 'is' 'learning' 'love' 'machine']\n",
            "\n",
            "TF-IDF representation:\n",
            "[[0.         0.         0.         0.         0.42544054 0.72033345\n",
            "  0.54783215]\n",
            " [0.         0.         0.63174505 0.4804584  0.37311881 0.\n",
            "  0.4804584 ]\n",
            " [0.5844829  0.5844829  0.         0.44451431 0.34520502 0.\n",
            "  0.        ]]\n",
            "Feature names: ['amazing' 'deep' 'fun' 'is' 'learning' 'love' 'machine']\n"
          ]
        }
      ],
      "source": [
        "#Write a Python program to convert a given text into a Bag of Words (BoW) representation using `CountVectorizer` from `sklearn.feature_extraction.text`.\n",
        "#Also, compute the TF-IDF representation using `TfidfVectorizer`.\n",
        "#Example input:\n",
        "    #[\"I love machine learning\", \"Machine learning is fun\", \"Deep learning is amazing\"]\n",
        "from sklearn.feature_extraction.text import CountVectorizer, TfidfVectorizer\n",
        "\n",
        "corpus = [\n",
        "    \"I love machine learning\",\n",
        "    \"Machine learning is fun\",\n",
        "    \"Deep learning is amazing\"\n",
        "]\n",
        "\n",
        "count_vectorizer = CountVectorizer()\n",
        "X_bow = count_vectorizer.fit_transform(corpus)\n",
        "bow_feature_names = count_vectorizer.get_feature_names_out()\n",
        "\n",
        "print(\"Bag of Words (BoW) representation:\")\n",
        "print(X_bow.toarray())\n",
        "print(\"Feature names:\", bow_feature_names)\n",
        "\n",
        "tfidf_vectorizer = TfidfVectorizer()\n",
        "X_tfidf = tfidf_vectorizer.fit_transform(corpus)\n",
        "tfidf_feature_names = tfidf_vectorizer.get_feature_names_out()\n",
        "\n",
        "print(\"\\nTF-IDF representation:\")\n",
        "print(X_tfidf.toarray())\n",
        "print(\"Feature names:\", tfidf_feature_names)\n"
      ]
    }
  ]
}