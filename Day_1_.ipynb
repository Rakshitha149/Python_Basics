{
  "nbformat": 4,
  "nbformat_minor": 0,
  "metadata": {
    "colab": {
      "provenance": [],
      "authorship_tag": "ABX9TyN2E9kwj2rxthP7wUUwou1g",
      "include_colab_link": true
    },
    "kernelspec": {
      "name": "python3",
      "display_name": "Python 3"
    },
    "language_info": {
      "name": "python"
    }
  },
  "cells": [
    {
      "cell_type": "markdown",
      "metadata": {
        "id": "view-in-github",
        "colab_type": "text"
      },
      "source": [
        "<a href=\"https://colab.research.google.com/github/Rakshitha149/Python_Basics/blob/main/Day_1_.ipynb\" target=\"_parent\"><img src=\"https://colab.research.google.com/assets/colab-badge.svg\" alt=\"Open In Colab\"/></a>"
      ]
    },
    {
      "cell_type": "code",
      "execution_count": 1,
      "metadata": {
        "colab": {
          "base_uri": "https://localhost:8080/"
        },
        "id": "aJHiesy5QLvE",
        "outputId": "78eebced-fe62-4c0f-8f25-924d747f1cb2"
      },
      "outputs": [
        {
          "output_type": "stream",
          "name": "stdout",
          "text": [
            "Integer variable: 42 | Type: <class 'int'>\n",
            "Float variable: 3.14 | Type: <class 'float'>\n",
            "String variable: Hello, World! | Type: <class 'str'>\n",
            "Boolean variable: True | Type: <class 'bool'>\n"
          ]
        }
      ],
      "source": [
        "#Write a program in Jupyter Notebook to declare variables of different data types (integer, float, string, and boolean). Print each variable and its type.\n",
        "\n",
        "integer_var = 42\n",
        "float_var = 3.14\n",
        "string_var = \"Hello, World!\"\n",
        "boolean_var = True\n",
        "\n",
        "print(\"Integer variable:\", integer_var, \"| Type:\", type(integer_var))\n",
        "print(\"Float variable:\", float_var, \"| Type:\", type(float_var))\n",
        "print(\"String variable:\", string_var, \"| Type:\", type(string_var))\n",
        "print(\"Boolean variable:\", boolean_var, \"| Type:\", type(boolean_var))\n"
      ]
    }
  ]
}