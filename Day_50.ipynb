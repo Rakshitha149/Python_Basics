{
  "nbformat": 4,
  "nbformat_minor": 0,
  "metadata": {
    "colab": {
      "provenance": [],
      "authorship_tag": "ABX9TyMOU38LuBj5aSuadClE8Dzj",
      "include_colab_link": true
    },
    "kernelspec": {
      "name": "python3",
      "display_name": "Python 3"
    },
    "language_info": {
      "name": "python"
    }
  },
  "cells": [
    {
      "cell_type": "markdown",
      "metadata": {
        "id": "view-in-github",
        "colab_type": "text"
      },
      "source": [
        "<a href=\"https://colab.research.google.com/github/Rakshitha149/Python_Basics/blob/main/Day_50.ipynb\" target=\"_parent\"><img src=\"https://colab.research.google.com/assets/colab-badge.svg\" alt=\"Open In Colab\"/></a>"
      ]
    },
    {
      "cell_type": "code",
      "source": [
        "#Coding Exercise: Intro to Self-Attention Mechanism\n",
        "#Write a Python program to create a simple attention score calculation. Use NumPy to generate random values for query, key, and value vectors, then compute the dot product.\n",
        "\n",
        "import numpy as np\n",
        "\n",
        "query = np.random.rand(1, 3)\n",
        "key = np.random.rand(1, 3)\n",
        "value = np.random.rand(1, 3)\n",
        "\n",
        "attention_scores = np.dot(query, key.T)\n",
        "\n",
        "attention_weights = np.exp(attention_scores) / np.sum(np.exp(attention_scores), axis=-1, keepdims=True)\n",
        "\n",
        "weighted_sum = np.dot(attention_weights, value)\n",
        "\n",
        "print(\"Query:\", query)\n",
        "print(\"Key:\", key)\n",
        "print(\"Value:\", value)\n",
        "print(\"Attention Scores:\", attention_scores)\n",
        "print(\"Attention Weights:\", attention_weights)\n",
        "print(\"Weighted Sum:\", weighted_sum)\n"
      ],
      "metadata": {
        "colab": {
          "base_uri": "https://localhost:8080/"
        },
        "id": "FVvzKBNJpcxD",
        "outputId": "0e6116e1-d747-49ba-ddcb-9b72503ca58a"
      },
      "execution_count": 17,
      "outputs": [
        {
          "output_type": "stream",
          "name": "stdout",
          "text": [
            "Query: [[0.39196448 0.69181877 0.53325426]]\n",
            "Key: [[0.83944448 0.28362793 0.00298216]]\n",
            "Value: [[0.38714964 0.96699196 0.16785247]]\n",
            "Attention Scores: [[0.52684179]]\n",
            "Attention Weights: [[1.]]\n",
            "Weighted Sum: [[0.38714964 0.96699196 0.16785247]]\n"
          ]
        }
      ]
    }
  ]
}