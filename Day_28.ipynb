{
  "nbformat": 4,
  "nbformat_minor": 0,
  "metadata": {
    "colab": {
      "provenance": [],
      "authorship_tag": "ABX9TyOjt+iuIdWE/gf73tmZvu5c",
      "include_colab_link": true
    },
    "kernelspec": {
      "name": "python3",
      "display_name": "Python 3"
    },
    "language_info": {
      "name": "python"
    }
  },
  "cells": [
    {
      "cell_type": "markdown",
      "metadata": {
        "id": "view-in-github",
        "colab_type": "text"
      },
      "source": [
        "<a href=\"https://colab.research.google.com/github/Rakshitha149/Python_Basics/blob/main/Day_28.ipynb\" target=\"_parent\"><img src=\"https://colab.research.google.com/assets/colab-badge.svg\" alt=\"Open In Colab\"/></a>"
      ]
    },
    {
      "cell_type": "code",
      "execution_count": 2,
      "metadata": {
        "colab": {
          "base_uri": "https://localhost:8080/"
        },
        "id": "v2B7DQJ9Cct5",
        "outputId": "b94c05b4-4261-4f2f-93c5-393381beecfa"
      },
      "outputs": [
        {
          "output_type": "stream",
          "name": "stdout",
          "text": [
            "Enter text for Named Entity Recognition: a\n",
            "Named Entities and their Types:\n"
          ]
        }
      ],
      "source": [
        "#Coding Exercise: Named Entity Recognition (NER)\n",
        "#Write a Python program to perform Named Entity Recognition (NER) on a given text using SpaCy. Print the entities and their types.\n",
        "import spacy\n",
        "\n",
        "def perform_ner(text):\n",
        "    \"\"\"Performs Named Entity Recognition (NER) using SpaCy and prints entities and their types.\"\"\"\n",
        "    nlp = spacy.load(\"en_core_web_sm\")\n",
        "    doc = nlp(text)\n",
        "\n",
        "    print(\"Named Entities and their Types:\")\n",
        "    for ent in doc.ents:\n",
        "        print(f\"{ent.text}: {ent.label_}\")\n",
        "\n",
        "def main():\n",
        "    text = input(\"Enter text for Named Entity Recognition: \")\n",
        "    perform_ner(text)\n",
        "\n",
        "if __name__ == \"__main__\":\n",
        "    main()\n"
      ]
    }
  ]
}