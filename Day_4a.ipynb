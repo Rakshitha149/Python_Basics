{
  "nbformat": 4,
  "nbformat_minor": 0,
  "metadata": {
    "colab": {
      "provenance": [],
      "authorship_tag": "ABX9TyNC+hAXb91hoHJw6XVnzvPV",
      "include_colab_link": true
    },
    "kernelspec": {
      "name": "python3",
      "display_name": "Python 3"
    },
    "language_info": {
      "name": "python"
    }
  },
  "cells": [
    {
      "cell_type": "markdown",
      "metadata": {
        "id": "view-in-github",
        "colab_type": "text"
      },
      "source": [
        "<a href=\"https://colab.research.google.com/github/Rakshitha149/Python_Basics/blob/main/Day_3.ipynb\" target=\"_parent\"><img src=\"https://colab.research.google.com/assets/colab-badge.svg\" alt=\"Open In Colab\"/></a>"
      ]
    },
    {
      "cell_type": "code",
      "execution_count": 1,
      "metadata": {
        "colab": {
          "base_uri": "https://localhost:8080/"
        },
        "id": "KZdLsZ9gDsUE",
        "outputId": "48914f68-6f11-47b1-d7a0-348d03b160b3"
      },
      "outputs": [
        {
          "output_type": "stream",
          "name": "stdout",
          "text": [
            "Enter marks for subject 1: 68\n",
            "Enter marks for subject 2: 48\n",
            "Enter marks for subject 3: 79\n",
            "Grade: Fail\n"
          ]
        }
      ],
      "source": [
        "\n",
        "subject1 = float(input(\"Enter marks for subject 1: \"))\n",
        "subject2 = float(input(\"Enter marks for subject 2: \"))\n",
        "subject3 = float(input(\"Enter marks for subject 3: \"))\n",
        "\n",
        "\n",
        "average = (subject1 + subject2 + subject3) / 3\n",
        "\n",
        "\n",
        "if average >= 90:\n",
        "    print(\"Grade: A\")\n",
        "elif 80 <= average < 90:\n",
        "    print(\"Grade: B\")\n",
        "elif 70 <= average < 80:\n",
        "    print(\"Grade: C\")\n",
        "else:\n",
        "    print(\"Grade: Fail\")\n"
      ]
    },
    {
      "cell_type": "code",
      "source": [
        "\n",
        "subject1 = float(input(\"Enter marks for subject 1: \"))\n",
        "subject2 = float(input(\"Enter marks for subject 2: \"))\n",
        "subject3 = float(input(\"Enter marks for subject 3: \"))\n",
        "\n",
        "\n",
        "average = (subject1 + subject2 + subject3) / 3\n",
        "\n",
        "\n",
        "if average >= 90:\n",
        "    print(\"Grade: A\")\n",
        "elif 80 <= average < 90:\n",
        "    print(\"Grade: B\")\n",
        "elif 70 <= average < 80:\n",
        "    print(\"Grade: C\")\n",
        "else:\n",
        "    print(\"Grade: Fail\")\n"
      ],
      "metadata": {
        "colab": {
          "base_uri": "https://localhost:8080/"
        },
        "id": "seYcd4jYECQP",
        "outputId": "f3beb1eb-8b48-4a39-a5e0-059301294e11"
      },
      "execution_count": 2,
      "outputs": [
        {
          "output_type": "stream",
          "name": "stdout",
          "text": [
            "Enter marks for subject 1: 98\n",
            "Enter marks for subject 2: 89\n",
            "Enter marks for subject 3: 90\n",
            "Grade: A\n"
          ]
        }
      ]
    }
  ]
}
