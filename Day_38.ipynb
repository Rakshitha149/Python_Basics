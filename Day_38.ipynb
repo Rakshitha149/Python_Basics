{
  "nbformat": 4,
  "nbformat_minor": 0,
  "metadata": {
    "colab": {
      "provenance": [],
      "authorship_tag": "ABX9TyOWtiVdg63GMO94ffrtVJC0",
      "include_colab_link": true
    },
    "kernelspec": {
      "name": "python3",
      "display_name": "Python 3"
    },
    "language_info": {
      "name": "python"
    }
  },
  "cells": [
    {
      "cell_type": "markdown",
      "metadata": {
        "id": "view-in-github",
        "colab_type": "text"
      },
      "source": [
        "<a href=\"https://colab.research.google.com/github/Rakshitha149/Python_Basics/blob/main/Day_38.ipynb\" target=\"_parent\"><img src=\"https://colab.research.google.com/assets/colab-badge.svg\" alt=\"Open In Colab\"/></a>"
      ]
    },
    {
      "cell_type": "code",
      "execution_count": 4,
      "metadata": {
        "colab": {
          "base_uri": "https://localhost:8080/"
        },
        "id": "dRn6E-gKmFkI",
        "outputId": "2a857580-c8f6-4e4c-c713-8a2e8081ded3"
      },
      "outputs": [
        {
          "output_type": "stream",
          "name": "stdout",
          "text": [
            "Predicted category for the new text: Spam\n"
          ]
        }
      ],
      "source": [
        "#Coding Question on Text Classification Models\n",
        "#Write a Python program to classify text using a simple Decision Tree model from `sklearn. tree. DecisionTreeClassifier`.\n",
        "#Convert text data into numerical format using `TfidfVectorizer`.\n",
        "#Example input:\n",
        "    #[\"Spam messages are annoying\", \"I won a lottery\", \"This is a normal message\"]\n",
        "\n",
        "from sklearn.feature_extraction.text import TfidfVectorizer\n",
        "from sklearn.tree import DecisionTreeClassifier\n",
        "from sklearn.model_selection import train_test_split\n",
        "\n",
        "corpus = [\n",
        "    \"Spam messages are annoying\",\n",
        "    \"I won a lottery\",\n",
        "    \"This is a normal message\"\n",
        "]\n",
        "\n",
        "labels = [\"Spam\", \"Spam\", \"Normal\"]\n",
        "\n",
        "vectorizer = TfidfVectorizer()\n",
        "X = vectorizer.fit_transform(corpus)\n",
        "\n",
        "X_train, X_test, y_train, y_test = train_test_split(X, labels, test_size=0.3, random_state=42)\n",
        "\n",
        "dt_classifier = DecisionTreeClassifier()\n",
        "dt_classifier.fit(X_train, y_train)\n",
        "\n",
        "new_text = [\"You have won a prize\"]\n",
        "X_new = vectorizer.transform(new_text)\n",
        "prediction = dt_classifier.predict(X_new)\n",
        "\n",
        "print(\"Predicted category for the new text:\", prediction[0])\n"
      ]
    }
  ]
}