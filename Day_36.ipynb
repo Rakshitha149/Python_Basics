{
  "nbformat": 4,
  "nbformat_minor": 0,
  "metadata": {
    "colab": {
      "provenance": [],
      "authorship_tag": "ABX9TyPTjyL/1n7kmGdjm2cFxA4d",
      "include_colab_link": true
    },
    "kernelspec": {
      "name": "python3",
      "display_name": "Python 3"
    },
    "language_info": {
      "name": "python"
    }
  },
  "cells": [
    {
      "cell_type": "markdown",
      "metadata": {
        "id": "view-in-github",
        "colab_type": "text"
      },
      "source": [
        "<a href=\"https://colab.research.google.com/github/Rakshitha149/Python_Basics/blob/main/Day_36.ipynb\" target=\"_parent\"><img src=\"https://colab.research.google.com/assets/colab-badge.svg\" alt=\"Open In Colab\"/></a>"
      ]
    },
    {
      "cell_type": "code",
      "execution_count": 2,
      "metadata": {
        "colab": {
          "base_uri": "https://localhost:8080/"
        },
        "id": "dRn6E-gKmFkI",
        "outputId": "831ebc6a-a9cb-4293-9ce3-1275b7beb107"
      },
      "outputs": [
        {
          "output_type": "stream",
          "name": "stdout",
          "text": [
            "Predicted category for the new text: AI\n"
          ]
        }
      ],
      "source": [
        "#Write a Python program to perform text classification using a Naïve Bayes classifier (`MultinomialNB`) from `sklearn.naive_bayes`.\n",
        "#Train the model using sample text data and predict the category of a given new text.\n",
        "#Example input:\n",
        "    #[\"I love programming\", \"Python is great\", \"Machine learning is amazing\"]\n",
        "from sklearn.feature_extraction.text import CountVectorizer\n",
        "from sklearn.naive_bayes import MultinomialNB\n",
        "from sklearn.model_selection import train_test_split\n",
        "\n",
        "corpus = [\n",
        "    \"I love programming\",\n",
        "    \"Python is great\",\n",
        "    \"Machine learning is amazing\",\n",
        "    \"I enjoy coding in Python\",\n",
        "    \"Machine learning is fun\",\n",
        "    \"Python is awesome\"\n",
        "]\n",
        "\n",
        "labels = [\"Programming\", \"Programming\", \"AI\", \"Programming\", \"AI\", \"Programming\"]\n",
        "\n",
        "vectorizer = CountVectorizer()\n",
        "X = vectorizer.fit_transform(corpus)\n",
        "\n",
        "X_train, X_test, y_train, y_test = train_test_split(X, labels, test_size=0.3, random_state=42)\n",
        "\n",
        "nb_classifier = MultinomialNB()\n",
        "nb_classifier.fit(X_train, y_train)\n",
        "\n",
        "new_text = [\"I love learning about AI\"]\n",
        "X_new = vectorizer.transform(new_text)\n",
        "prediction = nb_classifier.predict(X_new)\n",
        "\n",
        "print(\"Predicted category for the new text:\", prediction[0])\n"
      ]
    }
  ]
}